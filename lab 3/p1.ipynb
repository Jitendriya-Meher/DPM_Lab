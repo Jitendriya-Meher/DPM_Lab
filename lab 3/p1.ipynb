{
 "cells": [
  {
   "cell_type": "code",
   "execution_count": 1,
   "metadata": {},
   "outputs": [],
   "source": [
    "import pandas as pd\n",
    "import random"
   ]
  },
  {
   "cell_type": "markdown",
   "metadata": {},
   "source": [
    "Write  a  Python  function  that  takes  a  DataFrame  containing \n",
    "transaction data and aggregates the total transaction amount per \n",
    "user.  The  DataFrame  has  columns  'user_id', ‘item_name’  and \n",
    "'transaction_amount'."
   ]
  },
  {
   "cell_type": "code",
   "execution_count": 2,
   "metadata": {},
   "outputs": [
    {
     "data": {
      "text/html": [
       "<div>\n",
       "<style scoped>\n",
       "    .dataframe tbody tr th:only-of-type {\n",
       "        vertical-align: middle;\n",
       "    }\n",
       "\n",
       "    .dataframe tbody tr th {\n",
       "        vertical-align: top;\n",
       "    }\n",
       "\n",
       "    .dataframe thead th {\n",
       "        text-align: right;\n",
       "    }\n",
       "</style>\n",
       "<table border=\"1\" class=\"dataframe\">\n",
       "  <thead>\n",
       "    <tr style=\"text-align: right;\">\n",
       "      <th></th>\n",
       "      <th>user_id</th>\n",
       "      <th>item_name</th>\n",
       "      <th>transaction_amount</th>\n",
       "    </tr>\n",
       "  </thead>\n",
       "  <tbody>\n",
       "    <tr>\n",
       "      <th>0</th>\n",
       "      <td>1</td>\n",
       "      <td>item1</td>\n",
       "      <td>100.870</td>\n",
       "    </tr>\n",
       "    <tr>\n",
       "      <th>1</th>\n",
       "      <td>2</td>\n",
       "      <td>item2</td>\n",
       "      <td>200.180</td>\n",
       "    </tr>\n",
       "    <tr>\n",
       "      <th>2</th>\n",
       "      <td>3</td>\n",
       "      <td>item3</td>\n",
       "      <td>300.099</td>\n",
       "    </tr>\n",
       "    <tr>\n",
       "      <th>3</th>\n",
       "      <td>4</td>\n",
       "      <td>item4</td>\n",
       "      <td>400.100</td>\n",
       "    </tr>\n",
       "    <tr>\n",
       "      <th>4</th>\n",
       "      <td>5</td>\n",
       "      <td>item5</td>\n",
       "      <td>500.230</td>\n",
       "    </tr>\n",
       "    <tr>\n",
       "      <th>5</th>\n",
       "      <td>6</td>\n",
       "      <td>item6</td>\n",
       "      <td>600.220</td>\n",
       "    </tr>\n",
       "    <tr>\n",
       "      <th>6</th>\n",
       "      <td>1</td>\n",
       "      <td>item1</td>\n",
       "      <td>100.870</td>\n",
       "    </tr>\n",
       "    <tr>\n",
       "      <th>7</th>\n",
       "      <td>2</td>\n",
       "      <td>item2</td>\n",
       "      <td>200.180</td>\n",
       "    </tr>\n",
       "    <tr>\n",
       "      <th>8</th>\n",
       "      <td>3</td>\n",
       "      <td>item3</td>\n",
       "      <td>300.099</td>\n",
       "    </tr>\n",
       "    <tr>\n",
       "      <th>9</th>\n",
       "      <td>4</td>\n",
       "      <td>item1</td>\n",
       "      <td>100.870</td>\n",
       "    </tr>\n",
       "    <tr>\n",
       "      <th>10</th>\n",
       "      <td>5</td>\n",
       "      <td>item2</td>\n",
       "      <td>200.180</td>\n",
       "    </tr>\n",
       "    <tr>\n",
       "      <th>11</th>\n",
       "      <td>6</td>\n",
       "      <td>item3</td>\n",
       "      <td>300.099</td>\n",
       "    </tr>\n",
       "  </tbody>\n",
       "</table>\n",
       "</div>"
      ],
      "text/plain": [
       "   user_id item_name  transaction_amount\n",
       "0        1     item1             100.870\n",
       "1        2     item2             200.180\n",
       "2        3     item3             300.099\n",
       "3        4     item4             400.100\n",
       "4        5     item5             500.230\n",
       "5        6     item6             600.220\n",
       "6        1     item1             100.870\n",
       "7        2     item2             200.180\n",
       "8        3     item3             300.099\n",
       "9        4     item1             100.870\n",
       "10       5     item2             200.180\n",
       "11       6     item3             300.099"
      ]
     },
     "execution_count": 2,
     "metadata": {},
     "output_type": "execute_result"
    }
   ],
   "source": [
    "data = {\n",
    "    'user_id':['1','2','3','4','5','6','1','2','3','4','5','6'],\n",
    "    'item_name':['item1','item2','item3','item4','item5','item6','item1','item2','item3','item1','item2','item3'],\n",
    "    'transaction_amount':[100.87,200.18,300.099,400.1,500.23,600.22,100.87,200.18,300.099,100.87,200.18,300.099]\n",
    "}\n",
    "\n",
    "df = pd.DataFrame(data)\n",
    "df"
   ]
  },
  {
   "cell_type": "code",
   "execution_count": 3,
   "metadata": {},
   "outputs": [
    {
     "data": {
      "text/plain": [
       "<pandas.core.groupby.generic.DataFrameGroupBy object at 0x000001515C542CC0>"
      ]
     },
     "execution_count": 3,
     "metadata": {},
     "output_type": "execute_result"
    }
   ],
   "source": [
    "groupDf = df.groupby('user_id')\n",
    "groupDf"
   ]
  },
  {
   "cell_type": "code",
   "execution_count": 4,
   "metadata": {},
   "outputs": [
    {
     "name": "stdout",
     "output_type": "stream",
     "text": [
      "user_id = 1 , average transaction = 100.87\n",
      "user_id = 2 , average transaction = 200.18\n",
      "user_id = 3 , average transaction = 300.099\n",
      "user_id = 4 , average transaction = 250.485\n",
      "user_id = 5 , average transaction = 350.20500000000004\n",
      "user_id = 6 , average transaction = 450.1595\n"
     ]
    }
   ],
   "source": [
    "for i,user in groupDf:\n",
    "    sum = 0\n",
    "    count = 0\n",
    "    for i in range (len(user)):\n",
    "        sum += user.iloc[i]['transaction_amount']\n",
    "        count += 1\n",
    "    print(f\"user_id = {user.iloc[0]['user_id']} , average transaction = {sum/count}\")"
   ]
  },
  {
   "cell_type": "code",
   "execution_count": 5,
   "metadata": {},
   "outputs": [
    {
     "data": {
      "text/html": [
       "<div>\n",
       "<style scoped>\n",
       "    .dataframe tbody tr th:only-of-type {\n",
       "        vertical-align: middle;\n",
       "    }\n",
       "\n",
       "    .dataframe tbody tr th {\n",
       "        vertical-align: top;\n",
       "    }\n",
       "\n",
       "    .dataframe thead th {\n",
       "        text-align: right;\n",
       "    }\n",
       "</style>\n",
       "<table border=\"1\" class=\"dataframe\">\n",
       "  <thead>\n",
       "    <tr style=\"text-align: right;\">\n",
       "      <th></th>\n",
       "      <th>transaction_amount</th>\n",
       "    </tr>\n",
       "    <tr>\n",
       "      <th>user_id</th>\n",
       "      <th></th>\n",
       "    </tr>\n",
       "  </thead>\n",
       "  <tbody>\n",
       "    <tr>\n",
       "      <th>1</th>\n",
       "      <td>100.8700</td>\n",
       "    </tr>\n",
       "    <tr>\n",
       "      <th>2</th>\n",
       "      <td>200.1800</td>\n",
       "    </tr>\n",
       "    <tr>\n",
       "      <th>3</th>\n",
       "      <td>300.0990</td>\n",
       "    </tr>\n",
       "    <tr>\n",
       "      <th>4</th>\n",
       "      <td>250.4850</td>\n",
       "    </tr>\n",
       "    <tr>\n",
       "      <th>5</th>\n",
       "      <td>350.2050</td>\n",
       "    </tr>\n",
       "    <tr>\n",
       "      <th>6</th>\n",
       "      <td>450.1595</td>\n",
       "    </tr>\n",
       "  </tbody>\n",
       "</table>\n",
       "</div>"
      ],
      "text/plain": [
       "         transaction_amount\n",
       "user_id                    \n",
       "1                  100.8700\n",
       "2                  200.1800\n",
       "3                  300.0990\n",
       "4                  250.4850\n",
       "5                  350.2050\n",
       "6                  450.1595"
      ]
     },
     "execution_count": 5,
     "metadata": {},
     "output_type": "execute_result"
    }
   ],
   "source": [
    "groupDf.mean(numeric_only=True)"
   ]
  },
  {
   "cell_type": "markdown",
   "metadata": {},
   "source": [
    " Write a Python function that takes a DataFrame and returns a \n",
    "random sample of 10% of the rows. Ensure reproducibility by \n",
    "setting a random seed."
   ]
  },
  {
   "cell_type": "code",
   "execution_count": 6,
   "metadata": {},
   "outputs": [
    {
     "name": "stdout",
     "output_type": "stream",
     "text": [
      "user_id                    2\n",
      "item_name              item2\n",
      "transaction_amount    200.18\n",
      "Name: 1, dtype: object\n"
     ]
    }
   ],
   "source": [
    "n = int(len(df)*0.1)\n",
    "for i in range (n):\n",
    "    i = random.randint(0,len(df)-1)\n",
    "    print(df.loc[i])"
   ]
  },
  {
   "cell_type": "code",
   "execution_count": 7,
   "metadata": {},
   "outputs": [
    {
     "name": "stdout",
     "output_type": "stream",
     "text": [
      "   user_id item_name  transaction_amount\n",
      "10       5     item2              200.18\n"
     ]
    }
   ],
   "source": [
    "def sampledDf(df,seed):\n",
    "    sampled_df = df.sample(frac=0.1, random_state=seed)\n",
    "    print(sampled_df)\n",
    "\n",
    "sampledDf(df,42)"
   ]
  }
 ],
 "metadata": {
  "kernelspec": {
   "display_name": "Python 3",
   "language": "python",
   "name": "python3"
  },
  "language_info": {
   "codemirror_mode": {
    "name": "ipython",
    "version": 3
   },
   "file_extension": ".py",
   "mimetype": "text/x-python",
   "name": "python",
   "nbconvert_exporter": "python",
   "pygments_lexer": "ipython3",
   "version": "3.12.6"
  }
 },
 "nbformat": 4,
 "nbformat_minor": 2
}
