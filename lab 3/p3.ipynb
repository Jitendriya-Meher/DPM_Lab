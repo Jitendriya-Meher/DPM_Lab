{
 "cells": [
  {
   "cell_type": "markdown",
   "metadata": {},
   "source": [
    "Write a Python function that discretizes a continuous feature 'age' into \n",
    "age groups [0-18, 19-35, 36-60, 61+] and binarizes a categorical \n",
    "feature 'gender' into binary columns."
   ]
  },
  {
   "cell_type": "code",
   "execution_count": 1,
   "metadata": {},
   "outputs": [
    {
     "name": "stdout",
     "output_type": "stream",
     "text": [
      "   age age_group  gender_Male\n",
      "0   15      0-18         True\n",
      "1   25     19-35        False\n",
      "2   45     36-60         True\n",
      "3   70       61+        False\n"
     ]
    }
   ],
   "source": [
    "import pandas as pd\n",
    "\n",
    "def preprocess_features(df):\n",
    "    # Discretize the 'age' column into specified age groups\n",
    "    bins = [0, 18, 35, 60, float('inf')]  # Define the bin edges\n",
    "    labels = ['0-18', '19-35', '36-60', '61+']  # Define the corresponding labels\n",
    "    df['age_group'] = pd.cut(df['age'], bins=bins, labels=labels, right=True)\n",
    "\n",
    "    # Binarize the 'gender' column into binary columns\n",
    "    df = pd.get_dummies(df, columns=['gender'], drop_first=True)  # drop_first=True avoids duplication\n",
    "\n",
    "    return df\n",
    "\n",
    "# Example usage:\n",
    "df = pd.DataFrame({\n",
    "    'age': [15, 25, 45, 70],\n",
    "    'gender': ['Male', 'Female', 'Male', 'Female']\n",
    "})\n",
    "processed_df = preprocess_features(df)\n",
    "print(processed_df)\n"
   ]
  }
 ],
 "metadata": {
  "kernelspec": {
   "display_name": "Python 3",
   "language": "python",
   "name": "python3"
  },
  "language_info": {
   "codemirror_mode": {
    "name": "ipython",
    "version": 3
   },
   "file_extension": ".py",
   "mimetype": "text/x-python",
   "name": "python",
   "nbconvert_exporter": "python",
   "pygments_lexer": "ipython3",
   "version": "3.12.6"
  }
 },
 "nbformat": 4,
 "nbformat_minor": 2
}
