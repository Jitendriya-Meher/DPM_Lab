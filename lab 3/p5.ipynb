{
 "cells": [
  {
   "cell_type": "code",
   "execution_count": 9,
   "metadata": {},
   "outputs": [
    {
     "name": "stdout",
     "output_type": "stream",
     "text": [
      "Cosine Similarity: 0.9666860002681777\n"
     ]
    }
   ],
   "source": [
    "import numpy as np\n",
    "\n",
    "vec1 = [8, 9, 7]\n",
    "vec2 = [3, 5, 2]\n",
    "vec1 = np.array(vec1)\n",
    "vec2 = np.array(vec2)\n",
    "dot_product = np.dot(vec1, vec2)\n",
    "M1 = np.sqrt(np.sum((vec1) ** 2))\n",
    "M2 = np.sqrt(np.sum((vec2) ** 2))\n",
    "if M1 == 0 or M2 == 0:\n",
    "    cosine = 0.0\n",
    "else:\n",
    "    cosine = dot_product / (M1 * M2)\n",
    "print(\"Cosine Similarity:\", cosine)"
   ]
  },
  {
   "cell_type": "code",
   "execution_count": 10,
   "metadata": {},
   "outputs": [
    {
     "name": "stdout",
     "output_type": "stream",
     "text": [
      "Euclidean Distance: 19.235384061671343\n"
     ]
    }
   ],
   "source": [
    "point1 = [5,26]\n",
    "point2 = [8,7]\n",
    "point1 = np.array(point1)\n",
    "point2 = np.array(point2)\n",
    "distance = np.sqrt(np.sum((point1 - point2) ** 2))\n",
    "print(\"Euclidean Distance:\", distance)"
   ]
  },
  {
   "cell_type": "code",
   "execution_count": 11,
   "metadata": {},
   "outputs": [
    {
     "name": "stdout",
     "output_type": "stream",
     "text": [
      "Jaccard Similarity: 0.4\n"
     ]
    }
   ],
   "source": [
    "set1 = {12, 32, 43}\n",
    "set2 = {32, 43, 34, 56}\n",
    "intersection = len(set1.intersection(set2))\n",
    "union = len(set1.union(set2))\n",
    "jaccard = intersection / union if union != 0 else 0\n",
    "print(\"Jaccard Similarity:\", jaccard)"
   ]
  },
  {
   "cell_type": "code",
   "execution_count": 12,
   "metadata": {},
   "outputs": [
    {
     "name": "stdout",
     "output_type": "stream",
     "text": [
      "Pearson Correlation Coefficient: 0.6898365097101969\n"
     ]
    }
   ],
   "source": [
    "array1 = [13, 42, 63, 84, 45]\n",
    "array2 = [24, 45, 63, 83, 96]\n",
    "array1 = np.array(array1)\n",
    "array2 = np.array(array2)\n",
    "if len(array1) != len(array2):\n",
    "    print(\"Arrays must have the same length\")\n",
    "else:\n",
    "    mean1, mean2 = np.mean(array1), np.mean(array2)\n",
    "    numerator = np.sum((array1 - mean1) * (array2 - mean2))\n",
    "    denominator = np.sqrt(np.sum((array1 - mean1)**2) * np.sum((array2 - mean2)**2))\n",
    "    if denominator == 0:\n",
    "        pearson = 0\n",
    "    else:\n",
    "        pearson = numerator / denominator\n",
    "print(\"Pearson Correlation Coefficient:\", pearson)"
   ]
  },
  {
   "cell_type": "code",
   "execution_count": 13,
   "metadata": {},
   "outputs": [
    {
     "name": "stdout",
     "output_type": "stream",
     "text": [
      "Manhattan Distance: 45\n"
     ]
    }
   ],
   "source": [
    "point1 = [13, 72]\n",
    "point2 = [45, 85]\n",
    "point1 = np.array(point1)\n",
    "point2 = np.array(point2)\n",
    "manhattan = np.sum(np.abs(point1 - point2))\n",
    "print(\"Manhattan Distance:\", manhattan)"
   ]
  },
  {
   "cell_type": "code",
   "execution_count": 14,
   "metadata": {},
   "outputs": [
    {
     "name": "stdout",
     "output_type": "stream",
     "text": [
      "Hamming Distance: 4\n"
     ]
    }
   ],
   "source": [
    "vector1 = [0, 0, 0, 1, 1]\n",
    "vector2 = [1, 1, 0, 0, 0]\n",
    "if len(vector1) != len(vector2):\n",
    "    print(\"Vectors must have the same length\")\n",
    "else:\n",
    "    hamming = sum(el1 != el2 for el1, el2 in zip(vector1, vector2))\n",
    "    print(\"Hamming Distance:\", hamming)"
   ]
  },
  {
   "cell_type": "code",
   "execution_count": 15,
   "metadata": {},
   "outputs": [
    {
     "name": "stdout",
     "output_type": "stream",
     "text": [
      "0 1\n",
      "0 1\n",
      "0 0\n",
      "1 0\n",
      "1 0\n"
     ]
    }
   ],
   "source": [
    "for el1, el2 in zip(vector1, vector2):\n",
    "    print(el1, el2)"
   ]
  }
 ],
 "metadata": {
  "kernelspec": {
   "display_name": "Python 3",
   "language": "python",
   "name": "python3"
  },
  "language_info": {
   "codemirror_mode": {
    "name": "ipython",
    "version": 3
   },
   "file_extension": ".py",
   "mimetype": "text/x-python",
   "name": "python",
   "nbconvert_exporter": "python",
   "pygments_lexer": "ipython3",
   "version": "3.12.6"
  }
 },
 "nbformat": 4,
 "nbformat_minor": 2
}
